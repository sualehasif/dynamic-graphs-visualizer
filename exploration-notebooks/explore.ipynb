{
 "cells": [
  {
   "cell_type": "code",
   "execution_count": 5,
   "metadata": {},
   "outputs": [],
   "source": [
    "import pandas as pd\n",
    "import numpy as np\n",
    "import json"
   ]
  },
  {
   "cell_type": "code",
   "execution_count": 6,
   "metadata": {},
   "outputs": [],
   "source": [
    "import os"
   ]
  },
  {
   "cell_type": "code",
   "execution_count": 17,
   "metadata": {},
   "outputs": [],
   "source": [
    "data_directory = \"../data\""
   ]
  },
  {
   "cell_type": "code",
   "execution_count": 18,
   "metadata": {},
   "outputs": [],
   "source": [
    "# load the twitter/csv data\n",
    "data = pd.read_csv(f\"{data_directory}/twitter-dir/twitter.adj_stats.csv.0\")\n",
    "data.rename(str.strip, axis=\"columns\", inplace=True)\n",
    "\n",
    "data_2 = pd.read_csv(f\"{data_directory}/twitter-dir/twitter.adj_stats.csv.1\")\n",
    "data_2.rename(str.strip, axis=\"columns\", inplace=True)"
   ]
  },
  {
   "cell_type": "code",
   "execution_count": 22,
   "metadata": {},
   "outputs": [
    {
     "data": {
      "text/html": [
       "<div>\n",
       "<style scoped>\n",
       "    .dataframe tbody tr th:only-of-type {\n",
       "        vertical-align: middle;\n",
       "    }\n",
       "\n",
       "    .dataframe tbody tr th {\n",
       "        vertical-align: top;\n",
       "    }\n",
       "\n",
       "    .dataframe thead th {\n",
       "        text-align: right;\n",
       "    }\n",
       "</style>\n",
       "<table border=\"1\" class=\"dataframe\">\n",
       "  <thead>\n",
       "    <tr style=\"text-align: right;\">\n",
       "      <th></th>\n",
       "      <th>timestep</th>\n",
       "      <th>num_nodes</th>\n",
       "      <th>num_edges</th>\n",
       "      <th>average_degree</th>\n",
       "      <th>max_degree</th>\n",
       "      <th>num_triangles</th>\n",
       "      <th>new_edges</th>\n",
       "    </tr>\n",
       "  </thead>\n",
       "  <tbody>\n",
       "    <tr>\n",
       "      <th>0</th>\n",
       "      <td>0</td>\n",
       "      <td>1798</td>\n",
       "      <td>1000</td>\n",
       "      <td>0.556174</td>\n",
       "      <td>5</td>\n",
       "      <td>0</td>\n",
       "      <td>1000</td>\n",
       "    </tr>\n",
       "    <tr>\n",
       "      <th>1</th>\n",
       "      <td>1000</td>\n",
       "      <td>3538</td>\n",
       "      <td>2000</td>\n",
       "      <td>0.565291</td>\n",
       "      <td>7</td>\n",
       "      <td>0</td>\n",
       "      <td>1000</td>\n",
       "    </tr>\n",
       "    <tr>\n",
       "      <th>2</th>\n",
       "      <td>2000</td>\n",
       "      <td>5269</td>\n",
       "      <td>3000</td>\n",
       "      <td>0.569368</td>\n",
       "      <td>13</td>\n",
       "      <td>0</td>\n",
       "      <td>1000</td>\n",
       "    </tr>\n",
       "    <tr>\n",
       "      <th>3</th>\n",
       "      <td>3000</td>\n",
       "      <td>6945</td>\n",
       "      <td>4000</td>\n",
       "      <td>0.575954</td>\n",
       "      <td>13</td>\n",
       "      <td>0</td>\n",
       "      <td>1000</td>\n",
       "    </tr>\n",
       "    <tr>\n",
       "      <th>4</th>\n",
       "      <td>4000</td>\n",
       "      <td>8649</td>\n",
       "      <td>5000</td>\n",
       "      <td>0.578102</td>\n",
       "      <td>18</td>\n",
       "      <td>0</td>\n",
       "      <td>1000</td>\n",
       "    </tr>\n",
       "    <tr>\n",
       "      <th>...</th>\n",
       "      <td>...</td>\n",
       "      <td>...</td>\n",
       "      <td>...</td>\n",
       "      <td>...</td>\n",
       "      <td>...</td>\n",
       "      <td>...</td>\n",
       "      <td>...</td>\n",
       "    </tr>\n",
       "    <tr>\n",
       "      <th>995</th>\n",
       "      <td>995000</td>\n",
       "      <td>1235960</td>\n",
       "      <td>995811</td>\n",
       "      <td>0.805698</td>\n",
       "      <td>2432</td>\n",
       "      <td>33</td>\n",
       "      <td>999</td>\n",
       "    </tr>\n",
       "    <tr>\n",
       "      <th>996</th>\n",
       "      <td>996000</td>\n",
       "      <td>1236966</td>\n",
       "      <td>996811</td>\n",
       "      <td>0.805852</td>\n",
       "      <td>2438</td>\n",
       "      <td>33</td>\n",
       "      <td>1000</td>\n",
       "    </tr>\n",
       "    <tr>\n",
       "      <th>997</th>\n",
       "      <td>997000</td>\n",
       "      <td>1237999</td>\n",
       "      <td>997811</td>\n",
       "      <td>0.805987</td>\n",
       "      <td>2440</td>\n",
       "      <td>33</td>\n",
       "      <td>1000</td>\n",
       "    </tr>\n",
       "    <tr>\n",
       "      <th>998</th>\n",
       "      <td>998000</td>\n",
       "      <td>1239037</td>\n",
       "      <td>998810</td>\n",
       "      <td>0.806118</td>\n",
       "      <td>2441</td>\n",
       "      <td>33</td>\n",
       "      <td>999</td>\n",
       "    </tr>\n",
       "    <tr>\n",
       "      <th>999</th>\n",
       "      <td>999000</td>\n",
       "      <td>1240108</td>\n",
       "      <td>999810</td>\n",
       "      <td>0.806228</td>\n",
       "      <td>2441</td>\n",
       "      <td>33</td>\n",
       "      <td>1000</td>\n",
       "    </tr>\n",
       "  </tbody>\n",
       "</table>\n",
       "<p>1000 rows × 7 columns</p>\n",
       "</div>"
      ],
      "text/plain": [
       "     timestep  num_nodes  num_edges  average_degree  max_degree  \\\n",
       "0           0       1798       1000        0.556174           5   \n",
       "1        1000       3538       2000        0.565291           7   \n",
       "2        2000       5269       3000        0.569368          13   \n",
       "3        3000       6945       4000        0.575954          13   \n",
       "4        4000       8649       5000        0.578102          18   \n",
       "..        ...        ...        ...             ...         ...   \n",
       "995    995000    1235960     995811        0.805698        2432   \n",
       "996    996000    1236966     996811        0.805852        2438   \n",
       "997    997000    1237999     997811        0.805987        2440   \n",
       "998    998000    1239037     998810        0.806118        2441   \n",
       "999    999000    1240108     999810        0.806228        2441   \n",
       "\n",
       "     num_triangles  new_edges  \n",
       "0                0       1000  \n",
       "1                0       1000  \n",
       "2                0       1000  \n",
       "3                0       1000  \n",
       "4                0       1000  \n",
       "..             ...        ...  \n",
       "995             33        999  \n",
       "996             33       1000  \n",
       "997             33       1000  \n",
       "998             33        999  \n",
       "999             33       1000  \n",
       "\n",
       "[1000 rows x 7 columns]"
      ]
     },
     "execution_count": 22,
     "metadata": {},
     "output_type": "execute_result"
    }
   ],
   "source": [
    "data[0:1000]"
   ]
  },
  {
   "cell_type": "code",
   "execution_count": 23,
   "metadata": {},
   "outputs": [
    {
     "data": {
      "text/plain": [
       "Index(['timestep', 'num_nodes', 'num_edges', 'average_degree', 'max_degree',\n",
       "       'num_triangles', 'new_edges'],\n",
       "      dtype='object')"
      ]
     },
     "execution_count": 23,
     "metadata": {},
     "output_type": "execute_result"
    }
   ],
   "source": [
    "# get all the keys from the data\n",
    "keys = data.keys()\n",
    "\n",
    "keys"
   ]
  },
  {
   "cell_type": "code",
   "execution_count": 2,
   "metadata": {},
   "outputs": [],
   "source": [
    "config_name = \"graph_config.json\"\n",
    "graph_config = json.load(open(config_name))"
   ]
  },
  {
   "cell_type": "code",
   "execution_count": 3,
   "metadata": {},
   "outputs": [
    {
     "data": {
      "text/plain": [
       "{'Twitter': {'name': 'Twitter'}, 'Protein': {'name': 'Protein'}}"
      ]
     },
     "execution_count": 3,
     "metadata": {},
     "output_type": "execute_result"
    }
   ],
   "source": [
    "graph_config"
   ]
  },
  {
   "cell_type": "code",
   "execution_count": 5,
   "metadata": {},
   "outputs": [
    {
     "data": {
      "text/plain": [
       "dict_keys(['Twitter', 'Protein'])"
      ]
     },
     "execution_count": 5,
     "metadata": {},
     "output_type": "execute_result"
    }
   ],
   "source": [
    "graph_config.keys()"
   ]
  },
  {
   "cell_type": "code",
   "execution_count": 6,
   "metadata": {},
   "outputs": [
    {
     "name": "stdout",
     "output_type": "stream",
     "text": [
      "Twitter\n",
      "Protein\n"
     ]
    }
   ],
   "source": [
    "for key in graph_config.keys():\n",
    "    name = graph_config[key][\"name\"]\n",
    "    print(name)"
   ]
  },
  {
   "cell_type": "code",
   "execution_count": 6,
   "metadata": {},
   "outputs": [
    {
     "data": {
      "text/plain": [
       "{'com-orkut',\n",
       " 'copresence-Thiers13_stats',\n",
       " 'ia-online-ads-criteo-attrs_stats',\n",
       " 'ia-online-ads-criteo_stats',\n",
       " 'protein',\n",
       " 'rec-amazon-ratings_stats',\n",
       " 'rec-amz-Books_stats',\n",
       " 'rec-amz-CDs-and-Vinyl_stats',\n",
       " 'rec-amz-Cell-Phones-and-Acc_stats',\n",
       " 'rec-amz-Clothing-Shoes-Jewelry_stats',\n",
       " 'rec-amz-Electronics_stats',\n",
       " 'rec-amz-Home-and-Kitchen_stats',\n",
       " 'rec-amz-Movies-and-TV_stats',\n",
       " 'rec-amz-Sports-and-Outdoors_stats',\n",
       " 'rec-epinions-user-ratings_stats',\n",
       " 'rec-movielens-ratings_stats',\n",
       " 'soc-LiveJournal1_sym',\n",
       " 'soc-bitcoin_stats',\n",
       " 'soc-flickr-growth_stats',\n",
       " 'soc-youtube-growth_stats',\n",
       " 'sx-stackoverflow_stats',\n",
       " 'twitter'}"
      ]
     },
     "execution_count": 6,
     "metadata": {},
     "output_type": "execute_result"
    }
   ],
   "source": [
    "# get all the names of the files from the directory data\n",
    "\n",
    "\n",
    "file_names = os.listdir(\"../data\")\n",
    "stripped_names = set()\n",
    "\n",
    "for file in file_names:\n",
    "    # get the part of the name till the first .\n",
    "    stripped_names.add(file.split(\".\")[0])"
   ]
  },
  {
   "cell_type": "code",
   "execution_count": 10,
   "metadata": {},
   "outputs": [],
   "source": [
    "# make directories with the name of the files\n",
    "\n",
    "file_names = os.listdir(\"../data\")\n",
    "\n",
    "for file in stripped_names:\n",
    "    os.mkdir(f\"../data/{file}-dir\")\n",
    "\n",
    "for file in file_names:\n",
    "    # move the file to its directory\n",
    "    directory_name = file.split(\".\")[0] + \"-dir\"\n",
    "    os.rename(f\"../data/{file}\", f\"../data/{directory_name}/{file}\")"
   ]
  },
  {
   "cell_type": "code",
   "execution_count": 12,
   "metadata": {},
   "outputs": [],
   "source": [
    "# get a dictionary from the set\n",
    "names_dict = dict(zip(stripped_names, stripped_names))\n",
    "\n",
    "for key in names_dict.keys():\n",
    "    names_dict[key] = {\"name\": key, \"directory\": key + \"-dir\"}\n",
    "\n",
    "# write to file\n",
    "with open(\"../names.json\", \"w\") as f:\n",
    "    f.write(json.dumps(names_dict, indent=4))"
   ]
  },
  {
   "cell_type": "code",
   "execution_count": null,
   "metadata": {},
   "outputs": [],
   "source": [
    "for file in stripped_names:\n",
    "    os.mkdir(f\"../data/{file}-dir\")\n",
    "\n",
    "for file in file_names:\n",
    "    # move the file to its directory\n",
    "    directory_name = file.split(\".\")[0] + \"-dir\"\n",
    "    os.rename(f\"../data/{file}\", f\"../data/{directory_name}/{file}\")"
   ]
  },
  {
   "cell_type": "code",
   "execution_count": 2,
   "metadata": {},
   "outputs": [
    {
     "name": "stdout",
     "output_type": "stream",
     "text": [
      "['soc-bitcoin_stats-dir', 'ia-online-ads-criteo_stats-dir', 'rec-movielens-ratings_stats-dir', 'copresence-Thiers13_stats-dir', 'rec-epinions-user-ratings_stats-dir', 'rec-amazon-ratings_stats-dir', 'rec-amz-CDs-and-Vinyl_stats-dir', 'rec-amz-Cell-Phones-and-Acc_stats-dir', 'rec-amz-Movies-and-TV_stats-dir', 'rec-amz-Books_stats-dir', 'protein-dir', 'soc-flickr-growth_stats-dir', 'sx-stackoverflow_stats-dir', 'twitter-dir', 'soc-LiveJournal1_sym-dir', 'com-orkut-dir', 'soc-youtube-growth_stats-dir', 'rec-amz-Electronics_stats-dir', 'ia-online-ads-criteo-attrs_stats-dir', 'rec-amz-Sports-and-Outdoors_stats-dir', 'rec-amz-Home-and-Kitchen_stats-dir', 'rec-amz-Clothing-Shoes-Jewelry_stats-dir']\n"
     ]
    }
   ],
   "source": [
    "all_dir_names = os.listdir(\"../data\")\n",
    "print(all_dir_names)"
   ]
  },
  {
   "cell_type": "code",
   "execution_count": 3,
   "metadata": {},
   "outputs": [],
   "source": [
    "# for all files in the directories, read the data, subsample it with rate 50 or 400, and write to a new file\n",
    "\n",
    "all_dir_names = [\n",
    "    \"soc-bitcoin_stats-dir\",\n",
    "    \"ia-online-ads-criteo_stats-dir\",\n",
    "    \"rec-movielens-ratings_stats-dir\",\n",
    "    \"copresence-Thiers13_stats-dir\",\n",
    "    \"rec-epinions-user-ratings_stats-dir\",\n",
    "    \"rec-amazon-ratings_stats-dir\",\n",
    "    \"rec-amz-CDs-and-Vinyl_stats-dir\",\n",
    "    \"rec-amz-Cell-Phones-and-Acc_stats-dir\",\n",
    "    \"rec-amz-Movies-and-TV_stats-dir\",\n",
    "    \"rec-amz-Books_stats-dir\",\n",
    "    \"protein-dir\",\n",
    "    \"soc-flickr-growth_stats-dir\",\n",
    "    \"sx-stackoverflow_stats-dir\",\n",
    "    \"twitter-dir\",\n",
    "    \"soc-LiveJournal1_sym-dir\",\n",
    "    \"com-orkut-dir\",\n",
    "    \"soc-youtube-growth_stats-dir\",\n",
    "    \"rec-amz-Electronics_stats-dir\",\n",
    "    \"ia-online-ads-criteo-attrs_stats-dir\",\n",
    "    \"rec-amz-Sports-and-Outdoors_stats-dir\",\n",
    "    \"rec-amz-Home-and-Kitchen_stats-dir\",\n",
    "    \"rec-amz-Clothing-Shoes-Jewelry_stats-dir\",\n",
    "]\n",
    "dir_name = all_dir_names[0]"
   ]
  },
  {
   "cell_type": "code",
   "execution_count": 11,
   "metadata": {},
   "outputs": [],
   "source": [
    "for dir_name in all_dir_names:    \n",
    "    # skip the number 0\n",
    "    if dir_name == \"soc-bitcoin_stats-dir\":\n",
    "        continue\n",
    "    files = os.listdir(f\"../data/{dir_name}\")\n",
    "\n",
    "    for file in files:\n",
    "        df = pd.read_csv(f\"../data/{dir_name}/{file}\")\n",
    "        df.rename(str.strip, axis=\"columns\", inplace=True)\n",
    "        df_size = len(df.index)\n",
    "        if df_size > 10**8:\n",
    "            sample_rate = 400\n",
    "        else:\n",
    "            sample_rate = 50\n",
    "        df = df.iloc[::sample_rate]\n",
    "        df.to_csv(f\"../data/{dir_name}/compressed-{file}\", index=False)\n"
   ]
  },
  {
   "cell_type": "code",
   "execution_count": 9,
   "metadata": {},
   "outputs": [],
   "source": [
    "compressed_data_dir = \"../compressed-data\"\n",
    "\n",
    "# make this directory\n",
    "os.mkdir(compressed_data_dir)\n",
    "\n",
    "# make all the subdirectories of data to compressed-data\n",
    "for dir_name in all_dir_names:\n",
    "    os.mkdir(f\"{compressed_data_dir}/{dir_name}\")"
   ]
  },
  {
   "cell_type": "code",
   "execution_count": 10,
   "metadata": {},
   "outputs": [],
   "source": [
    "# move all the compressed files to the compressed-data-dir\n",
    "for dir_name in all_dir_names:\n",
    "    files = os.listdir(f\"../data/{dir_name}\")\n",
    "\n",
    "    if dir_name == \"soc-bitcoin_stats-dir\":\n",
    "        continue\n",
    "    for file in files:\n",
    "        # if file contains compressed, move it to the compressed-data-dir\n",
    "        if file.__contains__(\"compressed\"):\n",
    "            os.rename(\n",
    "                f\"../data/{dir_name}/{file}\",\n",
    "                f\"{compressed_data_dir}/{dir_name}/{file}\",\n",
    "            )"
   ]
  },
  {
   "cell_type": "code",
   "execution_count": null,
   "metadata": {},
   "outputs": [],
   "source": []
  }
 ],
 "metadata": {
  "interpreter": {
   "hash": "b0fa6594d8f4cbf19f97940f81e996739fb7646882a419484c72d19e05852a7e"
  },
  "kernelspec": {
   "display_name": "Python 3.9.8 64-bit",
   "language": "python",
   "name": "python3"
  },
  "language_info": {
   "codemirror_mode": {
    "name": "ipython",
    "version": 3
   },
   "file_extension": ".py",
   "mimetype": "text/x-python",
   "name": "python",
   "nbconvert_exporter": "python",
   "pygments_lexer": "ipython3",
   "version": "3.6.9"
  },
  "orig_nbformat": 4
 },
 "nbformat": 4,
 "nbformat_minor": 2
}
